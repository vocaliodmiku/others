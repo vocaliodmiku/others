{
 "cells": [
  {
   "cell_type": "code",
   "execution_count": 0,
   "metadata": {
    "colab": {},
    "colab_type": "code",
    "id": "kDu219EcomIQ"
   },
   "outputs": [],
   "source": [
    "%matplotlib inline\n",
    "from pandas import Series, DataFrame\n",
    "import pandas as pd\n",
    "import numpy as np\n",
    "import matplotlib.pyplot as plt\n",
    "import seaborn as sns\n",
    "from scipy import stats\n",
    "import statsmodels.stats.api as sms\n",
    "\n",
    "#print(plt.style.available)  #查看可用风格\n",
    "plt.style.use('ggplot')  #风格采用ggplot\n",
    "plt.rcParams['font.sans-serif'] = ['SimHei']  # 用来正常显示中文标签\n",
    "plt.rcParams['axes.unicode_minus'] = False  # 用来正常显示负号"
   ]
  },
  {
   "cell_type": "code",
   "execution_count": 0,
   "metadata": {
    "colab": {},
    "colab_type": "code",
    "id": "yJJXfAaeomIw",
    "scrolled": false
   },
   "outputs": [],
   "source": [
    "from IPython.core.display import Image, display\n",
    "#display(Image(filename='figures/显著性水平.png'))"
   ]
  },
  {
   "cell_type": "code",
   "execution_count": 0,
   "metadata": {
    "colab": {},
    "colab_type": "code",
    "id": "ijoAe6yShyEu"
   },
   "outputs": [],
   "source": [
    "%matplotlib inline\n",
    "from pandas import Series, DataFrame\n",
    "import pandas as pd\n",
    "import numpy as np\n",
    "import matplotlib.pyplot as plt\n",
    "import seaborn as sns\n",
    "from scipy import stats\n",
    "import statsmodels.stats.api as sms\n",
    "\n",
    "#print(plt.style.available)  #查看可用风格\n",
    "plt.style.use('ggplot')  #风格采用ggplot\n",
    "plt.rcParams['font.sans-serif'] = ['SimHei']  # 用来正常显示中文标签\n",
    "plt.rcParams['axes.unicode_minus'] = False  # 用来正常显示负号"
   ]
  },
  {
   "cell_type": "code",
   "execution_count": 0,
   "metadata": {
    "colab": {},
    "colab_type": "code",
    "id": "oPOjhxlrhyEx",
    "scrolled": false
   },
   "outputs": [],
   "source": [
    "from IPython.core.display import Image, display\n",
    "#display(Image(filename='figures/显著性水平.png'))"
   ]
  },
  {
   "cell_type": "markdown",
   "metadata": {
    "colab_type": "text",
    "id": "F8WYcKkQhyEz"
   },
   "source": [
    "## 0. 参数检验与非参数检验  （来自课上）\n",
    "参数检验是总体分布已知的情况下，通过样本来估计/推断总体参数(优先使用)：\n",
    " - **一个总体参数（单样本）**\n",
    "  - **均值**：\n",
    "    - z检验：正态分布或大样本已知$\\sigma$（不知道$\\sigma$时，可用$s$代替$\\sigma$，近似正态分布）\n",
    "    - **t检验：小样本且不知$\\sigma$，近似正态分布**  \n",
    "    ......\n",
    "\n",
    "## 0.9 t检验  \n",
    "\n",
    "T检验，亦称student t检验（Student's t test），主要用于样本含量较小（例如n < 30），总体标准差σ未知的正态分布。T检验是用t分布理论来推论差异发生的概率，从而比较两个平均数的差异是否显著。它与f检验、卡方检验并列。t检验是戈斯特为了观测酿酒质量而发明的,并于1908年在Biometrika上公布 。（来自[百度百科](https://baike.baidu.com/item/t%E6%A3%80%E9%AA%8C/9910799?fr=aladdin)）  \n",
    "t检验可分为单总体检验和双总体检验，以及配对样本检验。  \n",
    "- **单总体检验**  \n",
    "\n",
    "    单总体t检验是检验一个样本平均数与一个已知的总体平均数的差异是否显著。当总体分布是正态分布，如总体标准差未知且样本容量小于30，那么样本平均数与总体平均数的离差统计量呈t分布。  \n",
    "\n",
    "    单总体t检验统计量为：\n",
    " \\begin{equation}\n",
    " t = \\frac{\\overline{x}-\\mu_0}{s / \\sqrt{n}}\n",
    " \\end{equation}  \n",
    "    其中$\\overline{x}=\\frac{\\sum^n_{i=1} x_i}{n}$为样本平均数，  \n",
    "    $s=\\sqrt{\\frac{\\sum^n_{i=1} (x_i - \\overline{x})^2}{n-1}}$为样本标准偏差，  \n",
    "    n为样本数。该统计量t在零假说：μ=μ0为真的条件下服从自由度为n−1的t分布  \n",
    "\n",
    "**实际上，T检验就是检验一个正态分布的总体的均值是否在满足零假设的值之内**  \n",
    "\n",
    "\n",
    "\n",
    "![](2.jpeg)\n",
    "\n",
    "\n",
    "---\n",
    "\n",
    "\n",
    "姓名：彭霖铠   \n",
    "学号：201921198689   \n",
    "序号：2  \n",
    "内容：均值-t检验  \n",
    "数据组：  \n",
    "1. NBA上海赛跪族篮孩初患骨质疏松的年龄调查（左尾）\n",
    "2. 男生的体重与标准体重的调查（双尾）\n",
    "3. 二线城市硕士毕业生起薪调查（右尾）\n",
    "\n",
    "---\n",
    "\n"
   ]
  },
  {
   "cell_type": "markdown",
   "metadata": {
    "colab_type": "text",
    "id": "HYQxSgaahyE0"
   },
   "source": [
    "## 1. NBA上海赛跪族篮孩初患骨质疏松的年龄调查 \n",
    "\n",
    "背景：\n",
    "- 今天（昨天）是世界关节炎日，关节虽小，用处极大，从身体的转动到支撑都少不了它。不少人正值青年，膝盖却提前“退休”。[央视新闻](https://www.weibo.com/2656274875/Ib6sqzK8s?type=comment#_rnd1570861192475)  \n",
    "\n",
    "- 骨质疏松大多数病发人群为60岁以上老年人，而最近正值青少年的[NBA跪族篮孩](https://s.weibo.com/weibo?q=%E8%B7%AA%E6%97%8F%E7%AF%AE%E5%AD%A9&wvr=6&b=1&Refer=SWeibo_box)也大规模出现该症状。\n",
    "\n",
    "- 研究表明，如果青少年在25岁前如果跪久了，就会有骨质疏松的初步症状，不久就会影响脊椎的伸直，直至变成无脊椎动物。应购买轮椅等辅助工具。25岁后世界观已基本固定，没有补救必要。\n",
    "\n",
    "数据：  \n",
    "- 随机抽取29个跪族篮孩，其初患骨质疏松的年龄为:[17, 17, 18, 18, 19, 19, 19, 17, 20, 21, 21, 21, 21, 21, 22, 22, 22, 22, 23, 23, 23, 24, 24, 25, 25, 26, 26, 27, 27]   \n",
    "\n",
    "\n",
    "问题：  \n",
    "- 根据以上数据，请问是否应该建议NBA跪族篮孩购买[♿️轮椅♿️](https://www.taobao.com/)。\n",
    "\n",
    "零假设与备择假设：  \n",
    "- H0: 不应该建议NBA跪族篮孩购买轮椅：即均值$\\mu>=25$  \n",
    "\n",
    "- H1: 应该建议NBA跪族篮孩购买轮椅：即均值$\\mu< 25$  \n",
    "\n",
    "检验类型：  \n",
    "\n",
    "- 样本小于30。总体正态分布，已知总体均值=25，总体标准差未知。 应选择单样本t检验，备选假设的方向为“<”，因此为单尾（左侧）检验。  \n",
    "\n",
    "显著性水平：0.05"
   ]
  },
  {
   "cell_type": "markdown",
   "metadata": {
    "colab_type": "text",
    "id": "PmH7NPcWhyE2"
   },
   "source": [
    "###  1.1 样本,最大值,最小值,平均值,标准差"
   ]
  },
  {
   "cell_type": "code",
   "execution_count": 5,
   "metadata": {
    "colab": {
     "base_uri": "https://localhost:8080/",
     "height": 85
    },
    "colab_type": "code",
    "id": "Y3BFXs2XhyE3",
    "outputId": "3f8556df-46a1-4ddb-97bf-4376aeb282fd"
   },
   "outputs": [
    {
     "name": "stdout",
     "output_type": "stream",
     "text": [
      "样本最大值= 27\n",
      "样本最小值= 17\n",
      "样本平均值= 21.83\n",
      "样本标准差= 2.879347\n"
     ]
    }
   ],
   "source": [
    "data = Series([17, 17, 18, 18, 19, 19, 19, 20, 20, 21, 21, 21, 21, 21, 22, 22, \n",
    "               22, 22, 23, 23, 23, 24, 24, 25, 25, 26, 26, 27, 27])\n",
    "n=29\n",
    "pop_mean = 25 #总体均值\n",
    "alpha = 0.05\n",
    "\n",
    "data_min = data.min()\n",
    "data_max = data.max()\n",
    "data_mean = data.mean()\n",
    "data_std = data.std()\n",
    "print('样本最大值= {}'.format(data_max))\n",
    "print('样本最小值= {}'.format(data_min))\n",
    "print('样本平均值= {:.2f}'.format(data_mean))\n",
    "print('样本标准差= {:f}'.format(data_std))"
   ]
  },
  {
   "cell_type": "code",
   "execution_count": 6,
   "metadata": {
    "colab": {
     "base_uri": "https://localhost:8080/",
     "height": 323
    },
    "colab_type": "code",
    "id": "L2w0O-0ohyE7",
    "outputId": "367fc878-f28a-42b9-aa8c-ca6af9a98c24"
   },
   "outputs": [
    {
     "data": {
      "text/plain": [
       "<matplotlib.axes._subplots.AxesSubplot at 0x7fb54af64e10>"
      ]
     },
     "execution_count": 6,
     "metadata": {
      "tags": []
     },
     "output_type": "execute_result"
    },
    {
     "name": "stderr",
     "output_type": "stream",
     "text": [
      "/usr/local/lib/python3.6/dist-packages/matplotlib/font_manager.py:1241: UserWarning: findfont: Font family ['sans-serif'] not found. Falling back to DejaVu Sans.\n",
      "  (prop.get_family(), self.defaultFamily[fontext]))\n"
     ]
    },
    {
     "data": {
      "image/png": "[encoded data removed]",
      "text/plain": [
       "<Figure size 432x288 with 1 Axes>"
      ]
     },
     "metadata": {
      "tags": []
     },
     "output_type": "display_data"
    }
   ],
   "source": [
    "sns.distplot(data)"
   ]
  },
  {
   "cell_type": "markdown",
   "metadata": {
    "colab_type": "text",
    "id": "RUHr_o54hyE9"
   },
   "source": [
    "### 1.2 t值 p值"
   ]
  },
  {
   "cell_type": "code",
   "execution_count": 7,
   "metadata": {
    "colab": {
     "base_uri": "https://localhost:8080/",
     "height": 68
    },
    "colab_type": "code",
    "id": "ZmfZewxqhyE-",
    "outputId": "b47b07b1-2d54-4036-8d6a-cca17c536a3f",
    "scrolled": true
   },
   "outputs": [
    {
     "name": "stdout",
     "output_type": "stream",
     "text": [
      "t值= -5.933279256297862 \n",
      "双尾检验的p值= 2.1902343467816044e-06 \n",
      "左尾检验的p值= 1.0951171733908022e-06\n"
     ]
    }
   ],
   "source": [
    "t,p_two_tail =stats.ttest_1samp(data,pop_mean)\n",
    "p_one_tail = p_two_tail / 2\n",
    "print('t值=',t,'\\n双尾检验的p值=',p_two_tail, '\\n左尾检验的p值=',p_one_tail) "
   ]
  },
  {
   "cell_type": "markdown",
   "metadata": {
    "colab_type": "text",
    "id": "jJfO825uhyE_"
   },
   "source": [
    "当然也可以自己根据公式写：  \n",
    "\n",
    " \\begin{equation}\n",
    " t = \\frac{\\overline{x}-\\mu_0}{s / \\sqrt{n}}\n",
    " \\end{equation} \n"
   ]
  },
  {
   "cell_type": "code",
   "execution_count": 8,
   "metadata": {
    "colab": {
     "base_uri": "https://localhost:8080/",
     "height": 68
    },
    "colab_type": "code",
    "id": "Pwd5XKPQhyFA",
    "outputId": "11e326c1-ecd3-455b-a214-d1966a5b462d"
   },
   "outputs": [
    {
     "name": "stdout",
     "output_type": "stream",
     "text": [
      "t值= -5.933279256297862 \n",
      "双尾检验的p值= 2.1902343467816044e-06 \n",
      "单尾检验的p值= 1.0951171733908022e-06\n"
     ]
    }
   ],
   "source": [
    "tt = (data_mean-pop_mean)/np.sqrt(data_std**2/float(n))\n",
    "pval = stats.t.sf(np.abs(tt), n-1)*2 \n",
    "print('t值=',tt,'\\n双尾检验的p值=',pval, '\\n左尾检验的p值=',pval /2 )"
   ]
  },
  {
   "cell_type": "code",
   "execution_count": 9,
   "metadata": {
    "colab": {
     "base_uri": "https://localhost:8080/",
     "height": 34
    },
    "colab_type": "code",
    "id": "Z-7mecLkhyFD",
    "outputId": "3af0bc9c-baa1-4d68-c0be-55830f0a04a4"
   },
   "outputs": [
    {
     "name": "stdout",
     "output_type": "stream",
     "text": [
      "拒绝H0，统计显著，应该建议NBA跪族篮孩购买轮椅\n"
     ]
    }
   ],
   "source": [
    "if t<0 and p_one_tail< alpha:     \n",
    "    print('拒绝H0，统计显著，应该建议NBA跪族篮孩购买轮椅')\n",
    "else: \n",
    "    print('不拒绝H0，统计不显著，不应该建议NBA跪族篮孩购买轮椅')"
   ]
  },
  {
   "cell_type": "markdown",
   "metadata": {
    "colab_type": "text",
    "id": "nPCDhzbOhyFE"
   },
   "source": [
    "### 1.3 置信区间\n",
    "- 以一定的概率保证估计包含总体参数的一个值域\n",
    "- 根据样本指标和抽样平均误差推断总体指标的可能范围\n",
    "- 两部分（准确程度与可靠程度）\n",
    " - 可能范围\n",
    " - 总体指标落在这个可能范围内的概率"
   ]
  },
  {
   "cell_type": "code",
   "execution_count": 10,
   "metadata": {
    "colab": {
     "base_uri": "https://localhost:8080/",
     "height": 34
    },
    "colab_type": "code",
    "id": "JPh2dGnuhyFF",
    "outputId": "592b0192-ec8a-480f-cf72-7b5e1ae4e571"
   },
   "outputs": [
    {
     "data": {
      "text/plain": [
       "(20.732341100469924, 22.92283131332318)"
      ]
     },
     "execution_count": 10,
     "metadata": {
      "tags": []
     },
     "output_type": "execute_result"
    }
   ],
   "source": [
    "std_err = stats.sem(data)\n",
    "#自由度\n",
    "df = len(data) - 1\n",
    "#置信水平\n",
    "confidence = 1 - alpha\n",
    "\n",
    "#置信区间confidence_interval\n",
    "CI = stats.t.interval(confidence, df, loc = data_mean, scale = std_err)\n",
    "CI"
   ]
  },
  {
   "cell_type": "markdown",
   "metadata": {
    "colab_type": "text",
    "id": "9uZF98sqhyFH"
   },
   "source": [
    "更好的办法是**利用statsmodels模块中的DescrStatsW函数**"
   ]
  },
  {
   "cell_type": "code",
   "execution_count": 11,
   "metadata": {
    "colab": {
     "base_uri": "https://localhost:8080/",
     "height": 51
    },
    "colab_type": "code",
    "id": "yu-atmdthyFH",
    "outputId": "7ba575a1-647f-41f3-a4eb-104ba6379e9f"
   },
   "outputs": [
    {
     "name": "stdout",
     "output_type": "stream",
     "text": [
      "95%置信水平下，建议购买的年龄置信区间为[\n"
     ]
    },
    {
     "data": {
      "text/plain": [
       "(20.732341100469924, 22.92283131332318)"
      ]
     },
     "execution_count": 11,
     "metadata": {
      "tags": []
     },
     "output_type": "execute_result"
    }
   ],
   "source": [
    "print(\"95%置信水平下，建议购买的年龄置信区间为[\")\n",
    "sms.DescrStatsW(data).tconfint_mean(alpha = alpha)"
   ]
  },
  {
   "cell_type": "markdown",
   "metadata": {
    "colab_type": "text",
    "id": "ywv2j831hyFJ"
   },
   "source": [
    "### 1.4 效应量  \n",
    "\n",
    "效应量  \n",
    "\n",
    "- 假设检验具有统计显著的结论时，进一步说明其是否效果显著。\n",
    "- 即回答P值没有回答的问题：究竟统计量的差异程度有多大？\n",
    "- 效应量太小，意味着处理即使达到了显著水平，也缺乏实用价值。  \n",
    "\n",
    "**Cohen's d**  ([wiki](https://en.wikipedia.org/wiki/Effect_size#Cohen's_d))。  \n",
    "- 表明两个平均数之间的标准差异  \n",
    "\n",
    " \\begin{equation}   \n",
    " d = \\frac{\\overline x_1 - \\overline x_2}{s}  \n",
    "\\end{equation}  \n",
    "\n",
    "    s是Pooled SD [(pooled standard deviation)](https://en.wikipedia.org/wiki/Pooled_standard_deviation)\n",
    "    - 小效应量：d = 0.20\n",
    "    - 中效应量：d = 0.50\n",
    "    - 大效应量：d = 0.80\n",
    " \n",
    "本例的总体方差未知，欲估计效应量，则Pooled variance可用样本方差$S^2$代替。  \n"
   ]
  },
  {
   "cell_type": "code",
   "execution_count": 12,
   "metadata": {
    "colab": {
     "base_uri": "https://localhost:8080/",
     "height": 34
    },
    "colab_type": "code",
    "id": "YrEjvrRXhyFK",
    "outputId": "ffdd4ffe-b451-43bd-9d1c-9095697739ff"
   },
   "outputs": [
    {
     "name": "stdout",
     "output_type": "stream",
     "text": [
      "效应量为1.1017822979971184, 大于0.8，因此是大效应量，与建议年龄25岁的差异程度较大。\n"
     ]
    }
   ],
   "source": [
    "d = np.abs(data_mean - pop_mean)/data_std\n",
    "print(\"效应量为{}, 大于0.8，因此是大效应量，与建议年龄25岁的差异程度较大。应趁早买。\".format(d))"
   ]
  },
  {
   "cell_type": "markdown",
   "metadata": {
    "colab_type": "text",
    "id": "5MjF-iMahyFM"
   },
   "source": []
  },
  {
   "cell_type": "markdown",
   "metadata": {
    "colab_type": "text",
    "id": "gHbBcmw8omIz"
   },
   "source": [
    "## 2. 男生的体重与标准体重的调查\n",
    "\n",
    "背景：\n",
    "- 生活水平提高了，人们越来越管不住自己的嘴。看着自己越来越膨胀的身体，大家都开始决定要减肥。有个很明显的现象就是，大多数女生都会公开地表示自己在减肥（在准备着），而男生一般不会这样。考察男生的体重是否明显地等于标准体重。\n",
    "\n",
    "\n",
    "\n",
    "数据：  \n",
    "- 在小卖部门口随机抽取28个年龄为23，身高为176cm的路人，称其重量。受访者为28名男性：\n",
    "    - [63,63,63,63,63,63,63,63,63,64,64,64,65,74,58,60,61,61,62,62,62,68,84,73,63,80,100,62]  \n",
    "\n",
    "- 年龄为23岁的男性标准体重为63kg\n",
    "\n",
    "问题：  \n",
    "- 根据以上数据，请问男生的体重是否明显地等于标准体重。\n",
    "\n",
    "零假设与备择假设：  \n",
    "- H0: 男生的体重不明显地等于标准体重：即均值$\\mu \\neq 63$  \n",
    "\n",
    "- H1: 男生的体重明显地等于标准体重即均值$\\mu = 63$  \n",
    "\n",
    "检验类型：  \n",
    "\n",
    "- 样本小于30。总体正态分布，已知总体均值=63，总体标准差未知。 应选择单样本t检验，备选假设的为双尾检验。  \n",
    "\n",
    "显著性水平：0.05"
   ]
  },
  {
   "cell_type": "markdown",
   "metadata": {
    "colab_type": "text",
    "id": "BNVLfEilR__d"
   },
   "source": [
    "###  2.1 样本,最大值,最小值,平均值,标准差"
   ]
  },
  {
   "cell_type": "code",
   "execution_count": 13,
   "metadata": {
    "colab": {
     "base_uri": "https://localhost:8080/",
     "height": 85
    },
    "colab_type": "code",
    "id": "bj_PQNxlomI0",
    "outputId": "c96fe9be-51f0-4ca1-82e1-a8a6841e844f"
   },
   "outputs": [
    {
     "name": "stdout",
     "output_type": "stream",
     "text": [
      "样本最大值= 100\n",
      "样本最小值= 58\n",
      "样本平均值= 66.21\n",
      "样本标准差= 8.837450\n"
     ]
    }
   ],
   "source": [
    "data = Series([63,63,63,63,63,63,63,63,63,64,64,64,65,74,58,60,61,61,62,62,62,68,84,73,63,80,100,62])\n",
    "#data = Series([63,63,63,63,63,63,63,63,63,64,64,64,65,74,58,60,61,61,62,62,62,68,84,63,63,63,63,63])\n",
    "n=28\n",
    "pop_mean = 63 #总体均值\n",
    "alpha = 0.05\n",
    "\n",
    "data_min = data.min()\n",
    "data_max = data.max()\n",
    "data_mean = data.mean()\n",
    "data_std = data.std()\n",
    "print('样本最大值= {}'.format(data_max))\n",
    "print('样本最小值= {}'.format(data_min))\n",
    "print('样本平均值= {:.2f}'.format(data_mean))\n",
    "print('样本标准差= {:f}'.format(data_std))"
   ]
  },
  {
   "cell_type": "code",
   "execution_count": 14,
   "metadata": {
    "colab": {
     "base_uri": "https://localhost:8080/",
     "height": 286
    },
    "colab_type": "code",
    "id": "UHR4rL_QomI1",
    "outputId": "a0885def-a114-4b5b-e022-2cac8e4604bf"
   },
   "outputs": [
    {
     "data": {
      "text/plain": [
       "<matplotlib.axes._subplots.AxesSubplot at 0x7fb53ca9d0b8>"
      ]
     },
     "execution_count": 14,
     "metadata": {
      "tags": []
     },
     "output_type": "execute_result"
    },
    {
     "data": {
      "image/png": "[encoded data removed]",
      "text/plain": [
       "<Figure size 432x288 with 1 Axes>"
      ]
     },
     "metadata": {
      "tags": []
     },
     "output_type": "display_data"
    }
   ],
   "source": [
    "sns.distplot(data)"
   ]
  },
  {
   "cell_type": "markdown",
   "metadata": {
    "colab_type": "text",
    "id": "D6Uh0lNqTv-N"
   },
   "source": [
    "### 2.2 t值 p值"
   ]
  },
  {
   "cell_type": "code",
   "execution_count": 15,
   "metadata": {
    "colab": {
     "base_uri": "https://localhost:8080/",
     "height": 51
    },
    "colab_type": "code",
    "id": "dcYKHq93omI4",
    "outputId": "53bbb883-e24b-4b31-931f-735d7d50ad93",
    "scrolled": true
   },
   "outputs": [
    {
     "name": "stdout",
     "output_type": "stream",
     "text": [
      "t值= 1.9245823814527732 \n",
      "双尾检验的p值= 0.06487927866701991\n"
     ]
    }
   ],
   "source": [
    "t,p_two_tail =stats.ttest_1samp(data,pop_mean)\n",
    "print('t值=',t,'\\n双尾检验的p值=',p_two_tail) "
   ]
  },
  {
   "cell_type": "markdown",
   "metadata": {
    "colab_type": "text",
    "id": "GBVzEf0tq2Do"
   },
   "source": [
    "在相同显著性水平α的条件下，单尾临界值比双尾临界值更靠近MEAN。（α=0.05时单尾和双尾的临界值不同）\n",
    "![替代文字](1.png)"
   ]
  },
  {
   "cell_type": "code",
   "execution_count": 16,
   "metadata": {
    "colab": {
     "base_uri": "https://localhost:8080/",
     "height": 34
    },
    "colab_type": "code",
    "id": "_wclOhe9omI5",
    "outputId": "d569f58b-13eb-4e2b-b31c-15694a16027d"
   },
   "outputs": [
    {
     "name": "stdout",
     "output_type": "stream",
     "text": [
      "拒绝H0，统计显著,男生的体重明显地等于标准体重\n"
     ]
    }
   ],
   "source": [
    "if p_one_tail< alpha:     \n",
    "    print('拒绝H0，统计显著,男生的体重明显地等于标准体重')\n",
    "else: \n",
    "    print('接受H0，统计不显著，男生的体重不明显地等于标准体重')"
   ]
  },
  {
   "cell_type": "markdown",
   "metadata": {
    "colab_type": "text",
    "id": "tk9mVOKuomI7"
   },
   "source": [
    "### 2.3 置信区间"
   ]
  },
  {
   "cell_type": "code",
   "execution_count": 17,
   "metadata": {
    "colab": {
     "base_uri": "https://localhost:8080/",
     "height": 51
    },
    "colab_type": "code",
    "id": "or1e840gomJB",
    "outputId": "e1cb76bf-b802-46bf-e0f0-e248b24e28c1"
   },
   "outputs": [
    {
     "name": "stdout",
     "output_type": "stream",
     "text": [
      "95%置信水平下，男生平均体重置信区间为[\n"
     ]
    },
    {
     "data": {
      "text/plain": [
       "(62.78748020010467, 69.64109122846675)"
      ]
     },
     "execution_count": 17,
     "metadata": {
      "tags": []
     },
     "output_type": "execute_result"
    }
   ],
   "source": [
    "print(\"95%置信水平下，男生平均体重置信区间为[\")\n",
    "sms.DescrStatsW(data).tconfint_mean(alpha = alpha)"
   ]
  },
  {
   "cell_type": "markdown",
   "metadata": {
    "colab_type": "text",
    "id": "hW5unh1vomJD"
   },
   "source": [
    "### 2.4 效应量  \n"
   ]
  },
  {
   "cell_type": "code",
   "execution_count": 18,
   "metadata": {
    "colab": {
     "base_uri": "https://localhost:8080/",
     "height": 34
    },
    "colab_type": "code",
    "id": "zeHX-XOyomJE",
    "outputId": "9dd00caa-b4fc-481a-c595-0c6fded22841"
   },
   "outputs": [
    {
     "name": "stdout",
     "output_type": "stream",
     "text": [
      "效应量为0.3637118827843205, 小于0.8，因此不是大效应量，与标准体重的差异程度较小。\n"
     ]
    }
   ],
   "source": [
    "d = np.abs(data_mean - pop_mean)/data_std\n",
    "print(\"效应量为{}, 小于0.8，因此不是大效应量，与标准体重的差异程度较小。\".format(d))"
   ]
  },
  {
   "cell_type": "markdown",
   "metadata": {
    "colab_type": "text",
    "id": "nIdDR8oihfWS"
   },
   "source": [
    "## 3. 二线城市硕士毕业生起薪调查 \n",
    "\n",
    "背景：\n",
    "- 很多人以为读了硕士工资就会比本科高，这在一线城市可能是成立的。那么在二线城市呢。\n",
    "\n",
    "数据：  \n",
    "- 随机抽取28个在某个二线城市的硕士毕业生，其起薪为:[4423, 4434, 4528, 4504, 4562, 4674, 4683, 4610, 4620, 4618, 4627, 4715, 4750, 4620, 4622, 4623, 4710, 4800, 4721, 4680, 5000, 4700, 4689, 4643, 4743, 4632, 4623, 4732] \n",
    "\n",
    "- 已知某二线城市本科生平均工资为4500\n",
    "\n",
    "问题：  \n",
    "- 根据以上数据，请问是否应该建议NBA跪族篮孩购买[♿️轮椅♿️](https://www.taobao.com/)。\n",
    "\n",
    "零假设与备择假设：  \n",
    "- H0: 二线城市硕士毕业生起薪不高于本科生：即均值$\\mu<=4500$  \n",
    "\n",
    "- H1: 二线城市硕士毕业生起薪高于本科生：即均值$\\mu>4500$  \n",
    "\n",
    "检验类型：  \n",
    "\n",
    "- 样本小于30。总体正态分布，已知总体均值=4500，总体标准差未知。 应选择单样本t检验，备选假设的方向为“>”，因此为单尾（右侧）检验。  \n",
    "\n",
    "显著性水平：0.05"
   ]
  },
  {
   "cell_type": "markdown",
   "metadata": {
    "colab_type": "text",
    "id": "7uPsnCXVhfWS"
   },
   "source": [
    "###  3.1 样本,最大值,最小值,平均值,标准差"
   ]
  },
  {
   "cell_type": "code",
   "execution_count": 33,
   "metadata": {
    "colab": {
     "base_uri": "https://localhost:8080/",
     "height": 85
    },
    "colab_type": "code",
    "id": "YIORGdLHhfWT",
    "outputId": "ad277fc1-3adf-4ec4-c5bc-75c9fb9577cf"
   },
   "outputs": [
    {
     "name": "stdout",
     "output_type": "stream",
     "text": [
      "样本最大值= 5000\n",
      "样本最小值= 4523\n",
      "样本平均值= 4662.18\n",
      "样本标准差= 95.011911\n"
     ]
    }
   ],
   "source": [
    "data = Series([4523, 4534, 4528, 4604, 4600, 4674, 4600, 4610, 4620, 4618, 4627, 4715, 4750, 4620, 4622, 4623, \n",
    "               4710, 4800, 4721, 4680, 5000, 4700, 4689, 4643, 4743, 4632, 4623, 4732])\n",
    "n=28\n",
    "pop_mean = 4500 #总体均值\n",
    "alpha = 0.05\n",
    "\n",
    "data_min = data.min()\n",
    "data_max = data.max()\n",
    "data_mean = data.mean()\n",
    "data_std = data.std()\n",
    "print('样本最大值= {}'.format(data_max))\n",
    "print('样本最小值= {}'.format(data_min))\n",
    "print('样本平均值= {:.2f}'.format(data_mean))\n",
    "print('样本标准差= {:f}'.format(data_std))"
   ]
  },
  {
   "cell_type": "code",
   "execution_count": 34,
   "metadata": {
    "colab": {
     "base_uri": "https://localhost:8080/",
     "height": 286
    },
    "colab_type": "code",
    "id": "xU0AM2dshfWV",
    "outputId": "ca3299ff-a0c3-4a35-ba7b-ea9731a0bec6"
   },
   "outputs": [
    {
     "data": {
      "text/plain": [
       "<matplotlib.axes._subplots.AxesSubplot at 0x7fb53c8e81d0>"
      ]
     },
     "execution_count": 34,
     "metadata": {
      "tags": []
     },
     "output_type": "execute_result"
    },
    {
     "data": {
      "image/png": "[encoded data removed]",
      "text/plain": [
       "<Figure size 432x288 with 1 Axes>"
      ]
     },
     "metadata": {
      "tags": []
     },
     "output_type": "display_data"
    }
   ],
   "source": [
    "sns.distplot(data)"
   ]
  },
  {
   "cell_type": "markdown",
   "metadata": {
    "colab_type": "text",
    "id": "by1tw244hfWX"
   },
   "source": [
    "### 3.2 t值 p值"
   ]
  },
  {
   "cell_type": "code",
   "execution_count": 40,
   "metadata": {
    "colab": {
     "base_uri": "https://localhost:8080/",
     "height": 68
    },
    "colab_type": "code",
    "id": "EBKnyoBkhfWY",
    "outputId": "be7eaad7-167b-48f4-82de-63be18090629",
    "scrolled": true
   },
   "outputs": [
    {
     "name": "stdout",
     "output_type": "stream",
     "text": [
      "t值= 9.032218457058805 \n",
      "双尾检验的p值= 1.2028848362266923e-09 \n",
      "右尾检验的p值= 6.014424181133462e-10\n"
     ]
    }
   ],
   "source": [
    "t,p_two_tail =stats.ttest_1samp(data,pop_mean)\n",
    "p_one_tail = p_two_tail / 2\n",
    "print('t值=',t,'\\n双尾检验的p值=',p_two_tail, '\\n右尾检验的p值=',p_one_tail) "
   ]
  },
  {
   "cell_type": "code",
   "execution_count": 41,
   "metadata": {
    "colab": {
     "base_uri": "https://localhost:8080/",
     "height": 34
    },
    "colab_type": "code",
    "id": "vpcXeI0hhfWe",
    "outputId": "6ad44aa9-73ab-4b40-9184-dc46f943549d"
   },
   "outputs": [
    {
     "name": "stdout",
     "output_type": "stream",
     "text": [
      "拒绝H0，统计显著，二线城市硕士毕业生起薪高于本科生\n"
     ]
    }
   ],
   "source": [
    "if p_one_tail< alpha:     \n",
    "    print('拒绝H0，统计显著，二线城市硕士毕业生起薪高于本科生')\n",
    "else: \n",
    "    print('不拒绝H0，统计不显著，二线城市硕士毕业生起薪不高于本科生')"
   ]
  },
  {
   "cell_type": "markdown",
   "metadata": {
    "colab_type": "text",
    "id": "RLE7NJK0hfWg"
   },
   "source": [
    "### 3.3 置信区间"
   ]
  },
  {
   "cell_type": "code",
   "execution_count": 38,
   "metadata": {
    "colab": {
     "base_uri": "https://localhost:8080/",
     "height": 51
    },
    "colab_type": "code",
    "id": "z5ATRWtWhfWi",
    "outputId": "61cbde7c-af0a-444e-8104-c57a5b2e750b"
   },
   "outputs": [
    {
     "name": "stdout",
     "output_type": "stream",
     "text": [
      "95%置信水平下，二线城市硕士毕业生起薪置信区间为[\n"
     ]
    },
    {
     "data": {
      "text/plain": [
       "(4625.336798440202, 4699.020344416941)"
      ]
     },
     "execution_count": 38,
     "metadata": {
      "tags": []
     },
     "output_type": "execute_result"
    }
   ],
   "source": [
    "print(\"95%置信水平下，二线城市硕士毕业生起薪置信区间为\")\n",
    "sms.DescrStatsW(data).tconfint_mean(alpha = alpha)"
   ]
  },
  {
   "cell_type": "markdown",
   "metadata": {
    "colab_type": "text",
    "id": "NiEZjh0khfWk"
   },
   "source": [
    "### 3.4 效应量  \n",
    "  \n"
   ]
  },
  {
   "cell_type": "code",
   "execution_count": 42,
   "metadata": {
    "colab": {
     "base_uri": "https://localhost:8080/",
     "height": 34
    },
    "colab_type": "code",
    "id": "4-Ak0iZQhfWm",
    "outputId": "984206f0-78e0-4379-8114-4347a8c400e4"
   },
   "outputs": [
    {
     "name": "stdout",
     "output_type": "stream",
     "text": [
      "效应量为1.7069288446132234, 大于0.8，因此是大效应量，与本科生薪资的差异程度较大。\n"
     ]
    }
   ],
   "source": [
    "d = np.abs(data_mean - pop_mean)/data_std\n",
    "print(\"效应量为{}, 大于0.8，因此是大效应量，与本科生薪资的差异程度较大。\".format(d))"
   ]
  },
  {
   "cell_type": "code",
   "execution_count": 0,
   "metadata": {
    "colab": {},
    "colab_type": "code",
    "id": "wOEhgF3X4OsZ"
   },
   "outputs": [],
   "source": []
  }
 ],
 "metadata": {
  "colab": {
   "collapsed_sections": [],
   "name": "假设检验与方差分析(2).ipynb",
   "provenance": [],
   "toc_visible": true
  },
  "kernelspec": {
   "display_name": "Python 3",
   "language": "python",
   "name": "python3"
  },
  "language_info": {
   "codemirror_mode": {
    "name": "ipython",
    "version": 3
   },
   "file_extension": ".py",
   "mimetype": "text/x-python",
   "name": "python",
   "nbconvert_exporter": "python",
   "pygments_lexer": "ipython3",
   "version": "3.7.3"
  }
 },
 "nbformat": 4,
 "nbformat_minor": 1
}
